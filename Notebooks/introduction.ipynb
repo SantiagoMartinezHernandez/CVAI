{
  "cells": [
    {
      "cell_type": "markdown",
      "metadata": {
        "colab_type": "text",
        "id": "view-in-github"
      },
      "source": [
        "<a href=\"https://colab.research.google.com/github/SantiagoMartinezHernandez/CVAI/blob/main/introduction.ipynb\" target=\"_parent\"><img src=\"https://colab.research.google.com/assets/colab-badge.svg\" alt=\"Open In Colab\"/></a>"
      ]
    },
    {
      "cell_type": "markdown",
      "metadata": {
        "id": "2VFMdHnN7tAr"
      },
      "source": [
        "# Let's get familiar with the environment\n",
        "\n",
        "Welcome to Google Colab, and on a general stand of view, to the Python Notebook: A code environment based on cells of code and markdowns.\n",
        "\n",
        "Google Colab provides the opportunity to run code on the cloud and leverages the burden of installing dependencies on your computer while also letting you share the code easily with colleagues.\n",
        "\n",
        "In my expirience Colab is the best option for code drafting and teaching, but it is not ideal for big projects and distributions (since it was not made for those purposes).\n",
        "\n",
        "\n",
        "Regardless of the environment you choose, the Ipynb files work with Python on cells.\n",
        "\n",
        "---\n",
        "## Get to know the environment\n",
        "\n",
        "The first thing to look are the cells, cells are independent blocks of code or text that shares memory with the environment. When you start a session (or begin a run of code of any Notebook) you'll start a Kernel.\n",
        "\n",
        "Kernel refers to the runtime of your code, all the packages import, variables, classes and overall memory runs here. When the Kernel dies and needs to be restarted all the cells that you ran previously dissapear.\n",
        "\n",
        "Since we are working on Colab, to our left you will find a widget with some great tools.\n",
        "\n",
        "* The magnifying glass: for search and replace.\n",
        "* the $\\{x\\}$: for variable inspector.\n",
        "* the folder: for files uploading and dependencies validation.\n",
        "* the $< >$: for code fragments that may accelerate development.\n",
        "* the two line box: for command hints.\n",
        "* the solid $>_$: for opening a terminal.\n",
        "\n",
        "These tools may vary depending on the environment you use. But most of the IDE's have similar options.\n"
      ]
    },
    {
      "cell_type": "code",
      "execution_count": null,
      "metadata": {
        "id": "bJYbgIpY84_d"
      },
      "outputs": [],
      "source": [
        "# First task: analize your env\n",
        "\n",
        "\"\"\"\n",
        "Open the variable inspector widget and then run this cell, pay attention to the\n",
        "name, type, and shape of the data as it runs\n",
        "\"\"\"\n",
        "\n",
        "x = \"CVAI\"\n",
        "y = [{\"1\":\"dict_test\"},1,True]\n",
        "z = y[0]"
      ]
    },
    {
      "cell_type": "code",
      "execution_count": null,
      "metadata": {
        "id": "ForHduTSCbKA"
      },
      "outputs": [],
      "source": [
        "from types import NotImplementedType\n",
        "# Seccond task: try some code\n",
        "\n",
        "\"\"\"\n",
        "Create a variable called 'W' that contains an array of 3 by 3 filled with zeros\n",
        "then fill the second row with ones.\n",
        "\n",
        "Check the result on variable inspector, don't forget to delete the Error raise\n",
        "\"\"\"\n",
        "\n",
        "import numpy as np\n",
        "\n",
        "arr =  #Your solution\n",
        "raise NotImplementedError\n",
        "arr"
      ]
    },
    {
      "cell_type": "markdown",
      "metadata": {
        "id": "jjJTHx_SFGds"
      },
      "source": [
        "[Click to check the solution](https://github.com/SantiagoMartinezHernandez/CVAI/blob/main/Notebooks/S1/Excercises/P1.txt)\n",
        "\n"
      ]
    },
    {
      "cell_type": "markdown",
      "metadata": {
        "id": "a2znnbuSd9P4"
      },
      "source": [
        "## Get to know SKLearn\n",
        "\n",
        "Scikit-learn (along with PyTorch and TensorFlow) are distributions for general ML and statistics.\n",
        "\n",
        "SKLearn is a simple and efficient toolkit for data analysis that is widely known due to its ML implementations, you can do the following processes with industry quality performance:\n",
        "\n",
        "* classification\n",
        "* regression\n",
        "* clustering\n",
        "* Dimensionality reduction\n",
        "* Model selection\n",
        "* Preprocessing\n",
        "\n",
        "And many more among those topics. Here's a link to the [SKLearn main page](https://scikit-learn.org/stable/), as per with every tool we would use on this course, the implementation is OpenSource and agrees with the MiT license."
      ]
    },
    {
      "cell_type": "code",
      "execution_count": 1,
      "metadata": {
        "colab": {
          "base_uri": "https://localhost:8080/"
        },
        "id": "Uc0v0Z_OI3DA",
        "outputId": "ad64c04d-4211-49a3-b3f0-fe8d3cb1f619"
      },
      "outputs": [
        {
          "name": "stdout",
          "output_type": "stream",
          "text": [
            "Requirement already satisfied: scikit-learn in /usr/local/lib/python3.10/dist-packages (1.2.2)\n",
            "Collecting scikit-learn\n",
            "  Downloading scikit_learn-1.3.0-cp310-cp310-manylinux_2_17_x86_64.manylinux2014_x86_64.whl (10.8 MB)\n",
            "\u001b[2K     \u001b[90m━━━━━━━━━━━━━━━━━━━━━━━━━━━━━━━━━━━━━━━━\u001b[0m \u001b[32m10.8/10.8 MB\u001b[0m \u001b[31m13.5 MB/s\u001b[0m eta \u001b[36m0:00:00\u001b[0m\n",
            "\u001b[?25hRequirement already satisfied: numpy>=1.17.3 in /usr/local/lib/python3.10/dist-packages (from scikit-learn) (1.22.4)\n",
            "Requirement already satisfied: scipy>=1.5.0 in /usr/local/lib/python3.10/dist-packages (from scikit-learn) (1.10.1)\n",
            "Requirement already satisfied: joblib>=1.1.1 in /usr/local/lib/python3.10/dist-packages (from scikit-learn) (1.3.1)\n",
            "Requirement already satisfied: threadpoolctl>=2.0.0 in /usr/local/lib/python3.10/dist-packages (from scikit-learn) (3.2.0)\n",
            "Installing collected packages: scikit-learn\n",
            "  Attempting uninstall: scikit-learn\n",
            "    Found existing installation: scikit-learn 1.2.2\n",
            "    Uninstalling scikit-learn-1.2.2:\n",
            "      Successfully uninstalled scikit-learn-1.2.2\n",
            "Successfully installed scikit-learn-1.3.0\n",
            "Requirement already satisfied: scipy in /usr/local/lib/python3.10/dist-packages (1.10.1)\n",
            "Requirement already satisfied: numpy<1.27.0,>=1.19.5 in /usr/local/lib/python3.10/dist-packages (from scipy) (1.22.4)\n"
          ]
        }
      ],
      "source": [
        "# Before we start coding ML\n",
        "\n",
        "\"\"\"\n",
        "Google Colab terminal function is part of their Pro version, but we can\n",
        "actually perform command prompt lines on code cells if the line is\n",
        "preceeded by a '!' or a '%'\n",
        "\n",
        "For example:\n",
        "\"\"\"\n",
        "\n",
        "!pip install -U scikit-learn\n",
        "\n",
        "# While we are here we can install other fun dependencies\n",
        "\n",
        "!pip install scipy"
      ]
    },
    {
      "cell_type": "code",
      "execution_count": 2,
      "metadata": {
        "colab": {
          "base_uri": "https://localhost:8080/"
        },
        "id": "_HcfLvpIlFu6",
        "outputId": "d0e3413c-4ef5-4a50-fece-b5b5a6df1185"
      },
      "outputs": [
        {
          "name": "stdout",
          "output_type": "stream",
          "text": [
            "--2023-07-23 01:59:35--  http://vis-www.cs.umass.edu/lfw/lfw-funneled.tgz\n",
            "Resolving vis-www.cs.umass.edu (vis-www.cs.umass.edu)... 128.119.244.95\n",
            "Connecting to vis-www.cs.umass.edu (vis-www.cs.umass.edu)|128.119.244.95|:80... connected.\n",
            "HTTP request sent, awaiting response... 200 OK\n",
            "Length: 243346528 (232M) [application/x-gzip]\n",
            "Saving to: ‘lfw-funneled.tgz’\n",
            "\n",
            "lfw-funneled.tgz    100%[===================>] 232.07M  2.69MB/s    in 1m 51s  \n",
            "\n",
            "2023-07-23 02:01:26 (2.10 MB/s) - ‘lfw-funneled.tgz’ saved [243346528/243346528]\n",
            "\n"
          ]
        }
      ],
      "source": [
        "# Make sure to restart the Kernel if new packages were installed, then run\n",
        "\n",
        "!wget http://vis-www.cs.umass.edu/lfw/lfw-funneled.tgz\n",
        "\n",
        "# A small version of an interesting dataset"
      ]
    },
    {
      "cell_type": "markdown",
      "metadata": {
        "id": "-WFDGqNQhSKD"
      },
      "source": [
        "# Lets do something simple, how about an Face classifier?\n",
        "\n",
        "As for todays' final excercise, we will create a SVM that would use a preprocessed fraction of the *Labeled Faces in the Wild* (LFW) to create a simple ML algorithm for face recognition with the help of SKLearn!\n",
        "\n",
        "We will explore later on the course how does a Support Vector Machine works, but as for today lets use it to understand a little about an ML pipeline."
      ]
    },
    {
      "cell_type": "code",
      "execution_count": 3,
      "metadata": {
        "id": "LOPYIUUlExNq"
      },
      "outputs": [],
      "source": [
        "# First, let's start everything we need\n",
        "\n",
        "from time import time # Measure the runtime\n",
        "import matplotlib.pyplot as plt # Plot some results\n",
        "from scipy.stats import loguniform # Logarithmic function with uniform distribution\n",
        "from sklearn.datasets import fetch_lfw_people # A package for accessing the data we downloaded\n",
        "from sklearn.decomposition import PCA # Principal Component Analysis, we'll look it up later\n",
        "from sklearn.metrics import ConfusionMatrixDisplay, classification_report # Some Reports for our results!\n",
        "from sklearn.model_selection import RandomizedSearchCV, train_test_split # Some tools for data uniform selection\n",
        "from sklearn.preprocessing import StandardScaler # Standarization of the dataset\n",
        "from sklearn.svm import SVC # Support Vector Machine Module\n",
        "\n",
        "dataset = fetch_lfw_people(min_faces_per_person=70, resize=0.4)\n",
        "\n",
        "samples, h, w = dataset.images.shape #Check the datatype on the variable inspector\n",
        "\n",
        "\"\"\"\n",
        "FIRST CONVENTION\n",
        "\n",
        "We denote 'X' or Big x to the dataset features, this notation derives from\n",
        "statistics, where the X is used as the set of data that corresponds to\n",
        "regressors. X is all the information you need to get a result.\n",
        "\n",
        "'y' corresponds to the labels, or the expected result\n",
        "\"\"\"\n",
        "\n",
        "X = dataset.data\n",
        "n_features = X.shape[1]\n",
        "y = dataset.target\n",
        "target_names = dataset.target_names\n",
        "\n",
        "#Optimal processing usually transforms the labels, so instead of Jhon and\n",
        "# Sussan we use 0 and 1, and so on.\n",
        "\n",
        "n_classes = target_names.shape\n",
        "\n",
        "#Lets print some initial insights!"
      ]
    },
    {
      "cell_type": "code",
      "execution_count": null,
      "metadata": {
        "id": "qkRWC4rckzBV"
      },
      "outputs": [],
      "source": [
        "# Print the number of features, samples and classes on our dataset\n",
        "print(\"Our Dataset\")\n",
        "raise NotImplementedError(\"Print the results\")"
      ]
    },
    {
      "cell_type": "markdown",
      "metadata": {
        "id": "USE46ZhgmChE"
      },
      "source": [
        "[Click to see the solution](https://github.com/SantiagoMartinezHernandez/CVAI/blob/main/Notebooks/S1/Excercises/P2.txt)\n",
        "\n",
        "Too easy? let's begin with the actual ML"
      ]
    },
    {
      "cell_type": "code",
      "execution_count": 4,
      "metadata": {
        "id": "VsL1GyZSmALR"
      },
      "outputs": [],
      "source": [
        "\"\"\"\n",
        "SECOND CONVENTION\n",
        "\n",
        "When training a model we need to have your dataset split in\n",
        "train and test.\n",
        "\n",
        "It is common for the propotion to be 70-30 on train and test respectively.\n",
        "But up to 85% training work as well.\n",
        "\n",
        "You will found that many of the algorithms of ML uses random states\n",
        "to begin. To be able to recreate accurate results we use seeds.\n",
        "\n",
        "A seed is a set value from which the function performs its operation\n",
        "on a static way. The convention in industry is the number 42.\n",
        "\n",
        "The reason? no idea, but 42 is the answer to anything in the universe.\n",
        "\"\"\"\n",
        "\n",
        "X_train, X_test, y_train, y_test = train_test_split(X,y,test_size=0.25,random_state=42)\n",
        "\n",
        "scaler = StandardScaler()\n",
        "X_train = scaler.fit_transform(X_train)\n",
        "X_test = scaler.fit_transform(X_test)"
      ]
    },
    {
      "cell_type": "code",
      "execution_count": null,
      "metadata": {
        "colab": {
          "base_uri": "https://localhost:8080/",
          "height": 256
        },
        "id": "KZud8PlV1cDg",
        "outputId": "38148f9b-744c-49b5-8c8d-1111e7fc3744"
      },
      "outputs": [
        {
          "data": {
            "image/png": "[encoded data removed]",
            "text/plain": [
              "<Figure size 640x480 with 3 Axes>"
            ]
          },
          "metadata": {},
          "output_type": "display_data"
        }
      ],
      "source": [
        "#Why don't we look at some data? plot 3 random faces from the dataset\n",
        "#Help yourself with h and w , X data is flattened!\n",
        "\n",
        "import numpy as np\n",
        "\n",
        "raise NotImplementedError"
      ]
    },
    {
      "cell_type": "markdown",
      "metadata": {
        "id": "Cev5HV7F9jIw"
      },
      "source": [
        "[click to see the solution](https://github.com/SantiagoMartinezHernandez/CVAI/blob/main/Notebooks/S1/Excercises/P3.txt)"
      ]
    },
    {
      "cell_type": "code",
      "execution_count": 5,
      "metadata": {
        "id": "Nuy2sbDd4_iU"
      },
      "outputs": [],
      "source": [
        "#Cool! now lets create a latent space\n",
        "\n",
        "\"\"\"\n",
        "We will talk about it later, but a latent space is an algebraic set\n",
        "in which information has a lower dimensionallity compared to the input\n",
        "of the transformation function.\n",
        "\n",
        "We will hard-code this one by performing a PCA, we will also cover\n",
        "this on future lessons.\n",
        "\"\"\"\n",
        "K = 150 #number of components\n",
        "pca = PCA(n_components=K, svd_solver=\"randomized\",whiten=True).fit(X_train)\n",
        "\n",
        "eigenFaces = pca.components_.reshape((K,h,w))\n",
        "X_train_pca = pca.transform(X_train)\n",
        "X_test_pca = pca.transform(X_test)"
      ]
    },
    {
      "cell_type": "code",
      "execution_count": 12,
      "metadata": {
        "colab": {
          "base_uri": "https://localhost:8080/",
          "height": 74
        },
        "id": "cwgQMWER9dxR",
        "outputId": "b1ed9551-d41a-4ce1-ea59-4497f552f0cb"
      },
      "outputs": [
        {
          "data": {
            "text/html": [
              "<style>#sk-container-id-1 {color: black;}#sk-container-id-1 pre{padding: 0;}#sk-container-id-1 div.sk-toggleable {background-color: white;}#sk-container-id-1 label.sk-toggleable__label {cursor: pointer;display: block;width: 100%;margin-bottom: 0;padding: 0.3em;box-sizing: border-box;text-align: center;}#sk-container-id-1 label.sk-toggleable__label-arrow:before {content: \"▸\";float: left;margin-right: 0.25em;color: #696969;}#sk-container-id-1 label.sk-toggleable__label-arrow:hover:before {color: black;}#sk-container-id-1 div.sk-estimator:hover label.sk-toggleable__label-arrow:before {color: black;}#sk-container-id-1 div.sk-toggleable__content {max-height: 0;max-width: 0;overflow: hidden;text-align: left;background-color: #f0f8ff;}#sk-container-id-1 div.sk-toggleable__content pre {margin: 0.2em;color: black;border-radius: 0.25em;background-color: #f0f8ff;}#sk-container-id-1 input.sk-toggleable__control:checked~div.sk-toggleable__content {max-height: 200px;max-width: 100%;overflow: auto;}#sk-container-id-1 input.sk-toggleable__control:checked~label.sk-toggleable__label-arrow:before {content: \"▾\";}#sk-container-id-1 div.sk-estimator input.sk-toggleable__control:checked~label.sk-toggleable__label {background-color: #d4ebff;}#sk-container-id-1 div.sk-label input.sk-toggleable__control:checked~label.sk-toggleable__label {background-color: #d4ebff;}#sk-container-id-1 input.sk-hidden--visually {border: 0;clip: rect(1px 1px 1px 1px);clip: rect(1px, 1px, 1px, 1px);height: 1px;margin: -1px;overflow: hidden;padding: 0;position: absolute;width: 1px;}#sk-container-id-1 div.sk-estimator {font-family: monospace;background-color: #f0f8ff;border: 1px dotted black;border-radius: 0.25em;box-sizing: border-box;margin-bottom: 0.5em;}#sk-container-id-1 div.sk-estimator:hover {background-color: #d4ebff;}#sk-container-id-1 div.sk-parallel-item::after {content: \"\";width: 100%;border-bottom: 1px solid gray;flex-grow: 1;}#sk-container-id-1 div.sk-label:hover label.sk-toggleable__label {background-color: #d4ebff;}#sk-container-id-1 div.sk-serial::before {content: \"\";position: absolute;border-left: 1px solid gray;box-sizing: border-box;top: 0;bottom: 0;left: 50%;z-index: 0;}#sk-container-id-1 div.sk-serial {display: flex;flex-direction: column;align-items: center;background-color: white;padding-right: 0.2em;padding-left: 0.2em;position: relative;}#sk-container-id-1 div.sk-item {position: relative;z-index: 1;}#sk-container-id-1 div.sk-parallel {display: flex;align-items: stretch;justify-content: center;background-color: white;position: relative;}#sk-container-id-1 div.sk-item::before, #sk-container-id-1 div.sk-parallel-item::before {content: \"\";position: absolute;border-left: 1px solid gray;box-sizing: border-box;top: 0;bottom: 0;left: 50%;z-index: -1;}#sk-container-id-1 div.sk-parallel-item {display: flex;flex-direction: column;z-index: 1;position: relative;background-color: white;}#sk-container-id-1 div.sk-parallel-item:first-child::after {align-self: flex-end;width: 50%;}#sk-container-id-1 div.sk-parallel-item:last-child::after {align-self: flex-start;width: 50%;}#sk-container-id-1 div.sk-parallel-item:only-child::after {width: 0;}#sk-container-id-1 div.sk-dashed-wrapped {border: 1px dashed gray;margin: 0 0.4em 0.5em 0.4em;box-sizing: border-box;padding-bottom: 0.4em;background-color: white;}#sk-container-id-1 div.sk-label label {font-family: monospace;font-weight: bold;display: inline-block;line-height: 1.2em;}#sk-container-id-1 div.sk-label-container {text-align: center;}#sk-container-id-1 div.sk-container {/* jupyter's `normalize.less` sets `[hidden] { display: none; }` but bootstrap.min.css set `[hidden] { display: none !important; }` so we also need the `!important` here to be able to override the default hidden behavior on the sphinx rendered scikit-learn.org. See: https://github.com/scikit-learn/scikit-learn/issues/21755 */display: inline-block !important;position: relative;}#sk-container-id-1 div.sk-text-repr-fallback {display: none;}</style><div id=\"sk-container-id-1\" class=\"sk-top-container\"><div class=\"sk-text-repr-fallback\"><pre>SVC(C=2570.495783203366, class_weight=&#x27;balanced&#x27;, gamma=0.003892036610102612)</pre><b>In a Jupyter environment, please rerun this cell to show the HTML representation or trust the notebook. <br />On GitHub, the HTML representation is unable to render, please try loading this page with nbviewer.org.</b></div><div class=\"sk-container\" hidden><div class=\"sk-item\"><div class=\"sk-estimator sk-toggleable\"><input class=\"sk-toggleable__control sk-hidden--visually\" id=\"sk-estimator-id-1\" type=\"checkbox\" checked><label for=\"sk-estimator-id-1\" class=\"sk-toggleable__label sk-toggleable__label-arrow\">SVC</label><div class=\"sk-toggleable__content\"><pre>SVC(C=2570.495783203366, class_weight=&#x27;balanced&#x27;, gamma=0.003892036610102612)</pre></div></div></div></div></div>"
            ],
            "text/plain": [
              "SVC(C=2570.495783203366, class_weight='balanced', gamma=0.003892036610102612)"
            ]
          },
          "execution_count": 12,
          "metadata": {},
          "output_type": "execute_result"
        }
      ],
      "source": [
        "#Lets create our very first ablation experiment\n",
        "\n",
        "params = {\"C\":loguniform(1e3,1e5), \"gamma\":loguniform(1e-4,1e-1)}\n",
        "clf = RandomizedSearchCV(SVC(kernel=\"rbf\",class_weight=\"balanced\"),params,n_iter=10)\n",
        "clf = clf.fit(X_train_pca,y_train)\n",
        "clf.best_estimator_"
      ]
    },
    {
      "cell_type": "code",
      "execution_count": 16,
      "metadata": {
        "colab": {
          "base_uri": "https://localhost:8080/",
          "height": 730
        },
        "id": "ypeG6vC0hMKL",
        "outputId": "f65d56a4-753e-48b9-c1b1-deab95098dcb"
      },
      "outputs": [
        {
          "name": "stdout",
          "output_type": "stream",
          "text": [
            "                   precision    recall  f1-score   support\n",
            "\n",
            "     Ariel Sharon       0.82      0.69      0.75        13\n",
            "     Colin Powell       0.76      0.92      0.83        60\n",
            "  Donald Rumsfeld       0.89      0.59      0.71        27\n",
            "    George W Bush       0.89      0.97      0.93       146\n",
            "Gerhard Schroeder       0.91      0.80      0.85        25\n",
            "      Hugo Chavez       0.80      0.53      0.64        15\n",
            "       Tony Blair       0.94      0.81      0.87        36\n",
            "\n",
            "         accuracy                           0.86       322\n",
            "        macro avg       0.86      0.76      0.80       322\n",
            "     weighted avg       0.87      0.86      0.86       322\n",
            "\n"
          ]
        },
        {
          "data": {
            "image/png": "[encoded data removed]",
            "text/plain": [
              "<Figure size 640x480 with 2 Axes>"
            ]
          },
          "metadata": {},
          "output_type": "display_data"
        }
      ],
      "source": [
        "y_pred = clf.predict(X_test_pca)\n",
        "print(classification_report(y_test,y_pred,target_names=target_names))\n",
        "ConfusionMatrixDisplay.from_estimator(\n",
        "    clf,X_test_pca,y_test, display_labels=target_names,xticks_rotation=\"vertical\"\n",
        ")\n",
        "plt.tight_layout()\n",
        "plt.show()"
      ]
    },
    {
      "cell_type": "markdown",
      "metadata": {
        "id": "wmhRvgVulDdH"
      },
      "source": [
        "Answer the following questions:\n",
        "* What can we infer from these results?\n",
        "* is it a good model?\n",
        "* How can we upgrade it?\n",
        "* What would we require to create a personalized model?"
      ]
    },
    {
      "cell_type": "markdown",
      "metadata": {
        "id": "cu6BJoThlYsS"
      },
      "source": [
        "[Click to see the solution](https://)"
      ]
    },
    {
      "cell_type": "markdown",
      "metadata": {
        "id": "Tw-i1LjKqGPB"
      },
      "source": [
        "# That is it for today!\n",
        "\n",
        "Hopefully now you see what kind of learning waits ahead.\n",
        "\n",
        "Feel free to leave questions on the course chanels or Github. You can also send a DM to my contact.\n",
        "\n",
        "### *A challenge for you*\n",
        "\n",
        "We discussed that, theoretically, we can create a personalized classifier of faces. How about you do it? add yourself as a new class to the model."
      ]
    },
    {
      "cell_type": "markdown",
      "metadata": {
        "id": "fMO_kE5Lq5iI"
      },
      "source": [
        "*CVAI: Fundamentals of artificial intelligence for computer vision* is a non-profit project created by Andrés Santiago Martínez in which all files and code are under OpenSource agreements. The materials of the course are available for external use as long as the author is previously notified to its use."
      ]
    },
    {
      "cell_type": "code",
      "execution_count": null,
      "metadata": {
        "id": "V7adJPNYrZT-"
      },
      "outputs": [],
      "source": []
    }
  ],
  "metadata": {
    "colab": {
      "authorship_tag": "ABX9TyP8Cm6G9hVAVQ0c4qfvBYt7",
      "include_colab_link": true,
      "provenance": []
    },
    "kernelspec": {
      "display_name": "Python 3",
      "name": "python3"
    },
    "language_info": {
      "name": "python"
    }
  },
  "nbformat": 4,
  "nbformat_minor": 0
}
